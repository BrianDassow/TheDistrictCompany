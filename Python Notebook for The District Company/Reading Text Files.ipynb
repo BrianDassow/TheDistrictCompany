{
 "cells": [
  {
   "cell_type": "code",
   "execution_count": null,
   "metadata": {
    "collapsed": false
   },
   "outputs": [],
   "source": [
    "text_file = open(\"Test.txt\", \"r\")\n",
    "lines = text_file.read().split(\"<p>\").split(\"</p>\")\n",
    "print (lines)\n",
    "text_file.close()"
   ]
  },
  {
   "cell_type": "code",
   "execution_count": 2,
   "metadata": {
    "collapsed": false
   },
   "outputs": [
    {
     "name": "stdout",
     "output_type": "stream",
     "text": [
      "['Friendly, helpful staff that knows their stuff.   They have a store in Eau Claire as well and they&#039;re willing to send product between the two to make sure they have what you want.  I&#039;ll go to whichever Main Street store is offering the Magic formats that I want to play, but District is definitely my go-to.', 'I miss Levi runing the old card shop the new owners don&#039;t deal with footbll or baseball cards, so now there&#039;s no one to buy or trade cards with Levi gone.', 'I&#039;ve got to say, have been out of collecting cards since middle school and was looking to get back at it. After all, 14&#039; was a great year to start, with the draft class n all. So I took the drive to see Levi &#064;Card sharks, and man is he full of knowledge in cards. Needless to say, he gave me a brush up and I was off to the races. I bought a 14&#039; Panini Prizm jumbo box and started cracking packs. I pulled several nice autos, and inserts and was overall happy with the buy until... Last pack, wouldn&#039;t you know it, Johnny Football himself auto #&#039;d to 75, gold refractor! Thanks again Levi.', 'By far the best card shop in Menominee, and the surrounding area. Owner is an outstanding guy, and I am always happy to bring my business there.', 'First Class Customer service. I&#039;ve even considered getting back into Magic, they&#039;re just too damn friendly', 'Amazing atmosphere, great people, great place! <i class=\"_4-k1 img sp_fM-mz8spZ1b sx_5371b4\"><u>smile emoticon</u></i>', 'Best place in town for Magic cards. Boosters are slightly cheaper then at Wal-mart and that is awesome. Its pretty laid back there and to top it off they sell Surge there!', 'Beautiful shop that goes out of it&#039;s way to make its&#039; customers happy.  Great product, great prices and tons of fun events.  Hands down the best card shop I&#039;ve ever been to.', 'Great shop, professional and super clean. Staff is very knowledgeable and friendly.', 'Love this place! My grade school age son loves going in there - Levi is great with the kids that come in!']\n"
     ]
    }
   ],
   "source": [
    "import re\n",
    "f = open('MenomonieReviews.txt','r')\n",
    "data = f.read()\n",
    "x = re.findall(r'<p>(.*?)</p>',data,re.DOTALL)\n",
    "print(x)"
   ]
  },
  {
   "cell_type": "code",
   "execution_count": 1,
   "metadata": {
    "collapsed": false
   },
   "outputs": [
    {
     "name": "stdout",
     "output_type": "stream",
     "text": [
      "['A fun place for gamers of any experience level and of any age. An absolutely unique atmosphere for gamers that brings out the true potential for gaming of all genres whether they are card, board or video games.', 'We discovered this business on a recent trip to Eau Claire, and thoroughly enjoyed our brief visit. We&#039;re not gamers...we were thirsty and looking at the soda selection The owner made us feel very welcome, and treated my 10-year-old daughter like a queen. My hat&#039;s off to him...we wish this business great success! How about opening a Fargo branch?', 'So glad I decided to listen to my teacher and wander into the shop. Not disappointed at all with the variety of games, sodas, and the layout is amazing. I plan on visiting often!', 'This shop is staffed by some of the kindest, most helpful folks I&#039;ve ever met. The atmosphere is welcoming and fun. Whether you&#039;re a hardcore gamer or just want to spend an afternoon playing board games someplace fun, be sure to check it out. It&#039;s a great place for everyone from kids to grown ups. I love it here!', 'The district company is a awesome friendly and amazing place to go play on a computer or just sit down and battle with a variety of people there in almost any card game Magic, Pokemon, YuGiOh and way More. there prices are always up to date and they would match or bet those online prices on anything anytime. Love you district and I will be there today to have awesome fun.', 'Probably my favorite place in Eau Claire to just get together and hang out with friends', 'Fun place to hang out and do some card trading or just chill.', 'Has awesome products just wished there was a store over by the rice lake area to avoid the long drive. Highly recommended.', 'I was impressed, and I have seen lots of Game/Hobby shops.  I wish I had more time to hangout and enjoy the place.  I hope they get their Warhammer 40k League up and running and maybe a couple of tournaments as well.  I will definitely be going back.', 'I think the District Company is the best game store in Wisconsin because it thought me how to play fun card games like Pokemon and Dragon ball z. That&#039;s why I think The District Company is the best card store in Wisconsin.']\n"
     ]
    }
   ],
   "source": [
    "import re\n",
    "f = open('EauClaireReviews.txt','r')\n",
    "data = f.read()\n",
    "x = re.findall(r'<p>(.*?)</p>',data,re.DOTALL)\n",
    "print(x)"
   ]
  },
  {
   "cell_type": "code",
   "execution_count": null,
   "metadata": {
    "collapsed": true
   },
   "outputs": [],
   "source": []
  }
 ],
 "metadata": {
  "kernelspec": {
   "display_name": "Python 3",
   "language": "python",
   "name": "python3"
  },
  "language_info": {
   "codemirror_mode": {
    "name": "ipython",
    "version": 3
   },
   "file_extension": ".py",
   "mimetype": "text/x-python",
   "name": "python",
   "nbconvert_exporter": "python",
   "pygments_lexer": "ipython3",
   "version": "3.5.1"
  }
 },
 "nbformat": 4,
 "nbformat_minor": 0
}
