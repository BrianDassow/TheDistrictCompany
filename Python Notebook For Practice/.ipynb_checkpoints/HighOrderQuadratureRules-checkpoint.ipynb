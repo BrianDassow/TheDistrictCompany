{
 "cells": [
  {
   "cell_type": "code",
   "execution_count": 1,
   "metadata": {
    "collapsed": true
   },
   "outputs": [],
   "source": [
    "from pylab import *\n",
    "from scipy.special import *\n",
    "from scipy.linalg import *\n",
    "%matplotlib inline\n",
    "eps = finfo(float).eps"
   ]
  },
  {
   "cell_type": "markdown",
   "metadata": {},
   "source": [
    "###### Quadrature Rules"
   ]
  },
  {
   "cell_type": "code",
   "execution_count": 12,
   "metadata": {
    "collapsed": true
   },
   "outputs": [],
   "source": [
    "def gauss_legendre(n,a,b):\n",
    "    k = arange(1.0,n)       \n",
    "    a_band = zeros((2,n)) \n",
    "    a_band[1,0:n-1] = k/sqrt(4*k*k-1) \n",
    "    x,V = eig_banded(a_band,lower=True) \n",
    "    w = 2*real(V[0,:]**2) \n",
    "    # Translate interval as necessary\n",
    "    x = a+0.5*(b-a)*(x+1)\n",
    "    # Scale weights accordingly\n",
    "    w = 0.5*(b-a)*w   \n",
    "    return w,x"
   ]
  },
  {
   "cell_type": "markdown",
   "metadata": {},
   "source": [
    "###### Change functions so that the input is (n,a,b) and weights and nodes are returned just as in the Gauss-Legendre function. Recall that the trapezoidal rule requires the dot product to be multiplied by 0.5*h while Simpson's rule requires multiplication by h/3. You can multiply the weights by these factors."
   ]
  },
  {
   "cell_type": "code",
   "execution_count": 35,
   "metadata": {
    "collapsed": false
   },
   "outputs": [],
   "source": [
    "def mytrap(n,a,b):\n",
    "    x = linspace(a,b,n)\n",
    "    h = abs(x[-1]-x[0])/(len(x)-1)\n",
    "    w = ones(x.size)*2\n",
    "    w[0] = 1\n",
    "    w[x.size-1] = 1\n",
    "    w = 0.5*w*h\n",
    "    return w,x"
   ]
  },
  {
   "cell_type": "code",
   "execution_count": 49,
   "metadata": {
    "collapsed": false
   },
   "outputs": [],
   "source": [
    "def mysimp(n,a,b):\n",
    "    x = linspace(a,b,n)\n",
    "    h = abs(x[-1]-x[0])/(len(x)-1)\n",
    "    w = ones(x.size)\n",
    "    w[1::2] = 2\n",
    "    w[0::2] = 4\n",
    "    w[0] = 1\n",
    "    w[x.size-1] = 1\n",
    "\n",
    "    w = (h/3)*w\n",
    "    return w,x"
   ]
  },
  {
   "cell_type": "markdown",
   "metadata": {},
   "source": [
    "## Run Experiments"
   ]
  },
  {
   "cell_type": "code",
   "execution_count": 50,
   "metadata": {
    "collapsed": false
   },
   "outputs": [],
   "source": [
    "def f(x,a,b):\n",
    "    return b**21-a**21, 21*x**20\n",
    "    #return erf(b),(2/sqrt(pi))*exp(-x**2)\n",
    "    #return arctan(b)-arctan(a),sqrt(1-x**2)\n",
    "    #return fresnel(b)[0],sin(pi*x**2/2)"
   ]
  },
  {
   "cell_type": "code",
   "execution_count": 51,
   "metadata": {
    "collapsed": false
   },
   "outputs": [
    {
     "data": {
      "image/png": "[encoded data removed]",
      "text/plain": [
       "<matplotlib.figure.Figure at 0x1433d3f3860>"
      ]
     },
     "metadata": {},
     "output_type": "display_data"
    }
   ],
   "source": [
    "#nvec = 2**arange(4,10)\n",
    "nvec = arange(4,20)\n",
    "egq = zeros(nvec.size)\n",
    "etp = zeros(nvec.size)\n",
    "ets = zeros(nvec.size)\n",
    "p = 0\n",
    "# Erf and Fresnel examples expect intervals in the form [0, b]\n",
    "a = 0\n",
    "b = 1\n",
    "for n in nvec:\n",
    "    # Gaussian Quadrature\n",
    "    w,x = gauss_legendre(n,a,b)\n",
    "    xct,fx = f(x,a,b)\n",
    "    egq[p] = abs(xct-dot(w,fx))\n",
    "    # Trapezoidal\n",
    "    w,x = mytrap(n,a,b)\n",
    "    xct,fx = f(x,a,b)\n",
    "    etp[p] = abs(xct-dot(w,fx))\n",
    "    # Simpsons\n",
    "    w,x = mysimp(n,a,b)\n",
    "    xct,fx = f(x,a,b)\n",
    "    ets[p] = abs(xct-dot(w,fx))\n",
    "    # Increment\n",
    "    p += 1\n",
    "semilogy(nvec,egq,'ro-',nvec,etp,'bo-',nvec,ets,'go-')\n",
    "xticks(nvec,nvec)\n",
    "xlabel('Nodes',fontsize=15)\n",
    "ylabel('log(Error)',fontsize=15)\n",
    "legend(['Gauss-Legendre','Trapezoidal','Simpson'],loc='center left',bbox_to_anchor=(1.0, 0.1));"
   ]
  },
  {
   "cell_type": "code",
   "execution_count": null,
   "metadata": {
    "collapsed": true
   },
   "outputs": [],
   "source": []
  }
 ],
 "metadata": {
  "kernelspec": {
   "display_name": "Python 3",
   "language": "python",
   "name": "python3"
  },
  "language_info": {
   "codemirror_mode": {
    "name": "ipython",
    "version": 3
   },
   "file_extension": ".py",
   "mimetype": "text/x-python",
   "name": "python",
   "nbconvert_exporter": "python",
   "pygments_lexer": "ipython3",
   "version": "3.5.1"
  }
 },
 "nbformat": 4,
 "nbformat_minor": 0
}
