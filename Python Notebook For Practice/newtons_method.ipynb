{
 "cells": [
  {
   "cell_type": "markdown",
   "metadata": {},
   "source": [
    "# Newton's Method (Iterative Methods Introduction)"
   ]
  },
  {
   "cell_type": "code",
   "execution_count": 84,
   "metadata": {
    "collapsed": true
   },
   "outputs": [],
   "source": [
    "from pylab import *\n",
    "%matplotlib inline"
   ]
  },
  {
   "cell_type": "markdown",
   "metadata": {},
   "source": [
    "###### Create three functions: newton, f, and fp for Newton's method, the function, and it's derivative"
   ]
  },
  {
   "cell_type": "code",
   "execution_count": 85,
   "metadata": {
    "collapsed": false
   },
   "outputs": [],
   "source": [
    "def newton(x,tol,nmax = 1000):\n",
    "    error = 1 + tol     # (1) Set an error that gets compared to the tolerance, initialize it to be larger than tol\n",
    "    count = 0     # (2) Initialize an iteration counter\n",
    "    old = 0 # (3) Initialize an 'old' value, the current iterate\n",
    "    while(error > tol and count < nmax):# (4) Start a while loop that exits while the error > tol and the iteration counter is less than nmax\n",
    "        x = x - (f(x) / fp(x))#     (a) contained within the while loop is Newton's iteration scheme\n",
    "        error = abs(old - x)    #     (b) compute the error = abs(xold-x), difference between current iterates\n",
    "        old = x\n",
    "        count = count + 1      #     (c) reinitialize the 'old' value and increment the iteration counter\n",
    "    return x,count"
   ]
  },
  {
   "cell_type": "code",
   "execution_count": 86,
   "metadata": {
    "collapsed": true
   },
   "outputs": [],
   "source": [
    "def f(x):\n",
    "    return x**2-2"
   ]
  },
  {
   "cell_type": "code",
   "execution_count": 87,
   "metadata": {
    "collapsed": true
   },
   "outputs": [],
   "source": [
    "def fp(x):\n",
    "    return 2*x"
   ]
  },
  {
   "cell_type": "code",
   "execution_count": 89,
   "metadata": {
    "collapsed": false
   },
   "outputs": [
    {
     "name": "stdout",
     "output_type": "stream",
     "text": [
      "Root found 1.4142135624 in 91 iterations\n"
     ]
    }
   ],
   "source": [
    "x = 100000000000000000000000000\n",
    "p = 10\n",
    "tol = 10**-p\n",
    "root,nits = newton(x,tol)\n",
    "print(\"Root found {:} in {:d} iterations\".format(round(root,p),nits))"
   ]
  },
  {
   "cell_type": "code",
   "execution_count": null,
   "metadata": {
    "collapsed": true
   },
   "outputs": [],
   "source": []
  },
  {
   "cell_type": "code",
   "execution_count": null,
   "metadata": {
    "collapsed": true
   },
   "outputs": [],
   "source": []
  }
 ],
 "metadata": {
  "kernelspec": {
   "display_name": "Python 3",
   "language": "python",
   "name": "python3"
  },
  "language_info": {
   "codemirror_mode": {
    "name": "ipython",
    "version": 3
   },
   "file_extension": ".py",
   "mimetype": "text/x-python",
   "name": "python",
   "nbconvert_exporter": "python",
   "pygments_lexer": "ipython3",
   "version": "3.5.1"
  }
 },
 "nbformat": 4,
 "nbformat_minor": 0
}
