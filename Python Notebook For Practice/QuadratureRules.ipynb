{
 "cells": [
  {
   "cell_type": "code",
   "execution_count": 1,
   "metadata": {
    "collapsed": true
   },
   "outputs": [],
   "source": [
    "from matplotlib.pylab import *\n",
    "%matplotlib inline\n",
    "eps = finfo(float).eps"
   ]
  },
  {
   "cell_type": "markdown",
   "metadata": {},
   "source": [
    "###### Uniform Grid Quadrature Rules"
   ]
  },
  {
   "cell_type": "code",
   "execution_count": 2,
   "metadata": {
    "collapsed": false
   },
   "outputs": [
    {
     "data": {
      "text/plain": [
       "2.2204460492503131e-16"
      ]
     },
     "execution_count": 2,
     "metadata": {},
     "output_type": "execute_result"
    }
   ],
   "source": [
    "eps #what notebook considers to be 0"
   ]
  },
  {
   "cell_type": "code",
   "execution_count": 3,
   "metadata": {
    "collapsed": true
   },
   "outputs": [],
   "source": [
    "def rrule(x,y):\n",
    "    a = x[0]\n",
    "    b = x[-1]\n",
    "    h = abs(x[-1]-x[0])/(len(x)-1)\n",
    "    w = ones(y.size)\n",
    "    return h*dot(w,y)"
   ]
  },
  {
   "cell_type": "code",
   "execution_count": 8,
   "metadata": {
    "collapsed": false
   },
   "outputs": [
    {
     "data": {
      "text/plain": [
       "<matplotlib.legend.Legend at 0x2c2c095cc18>"
      ]
     },
     "execution_count": 8,
     "metadata": {},
     "output_type": "execute_result"
    },
    {
     "data": {
      "image/png": "[encoded data removed]",
      "text/plain": [
       "<matplotlib.figure.Figure at 0x2c2c0885400>"
      ]
     },
     "metadata": {},
     "output_type": "display_data"
    }
   ],
   "source": [
    "nvec = 2**arange(4,10)\n",
    "evecr = zeros(nvec.size)\n",
    "#evecl = evecr.copy()\n",
    "evect = evecr.copy()\n",
    "evecs = evecr.copy()\n",
    "p = 0\n",
    "for n in nvec:\n",
    "    x = linspace(-2,1,n)\n",
    "    y = x**3-x**2+x+15\n",
    "    #evecr[p] = abs(36.75-rrule(x,y[1:]))\n",
    "    #evecl[p] = abs(36.75-rrule(x,y[0:-1]))\n",
    "    evect[p] = abs(36.75-mytrap(x,y))\n",
    "    evecs[p] = abs(36.75-mysimp(x,y))\n",
    "    p += 1\n",
    "\n",
    "#loglog(nvec,evecr,'ro-',nvec,evecl,'bo-')\n",
    "#loglog(nvec,evecr,'ro-',nvec,evect,'bo-')\n",
    "loglog(nvec,evecs,'ro-',nvec,evect,'bo-')\n",
    "xticks(nvec,nvec)\n",
    "xlabel('Nodes',fontsize=15)\n",
    "ylabel('log(Error)',fontsize=15)\n",
    "#legend(['Right Sum','Trapezoidal']);\n",
    "legend(['Right Simpson','Trapezoidal']);\n",
    "#legend(['Right Sum','Left Sum']);"
   ]
  },
  {
   "cell_type": "code",
   "execution_count": 6,
   "metadata": {
    "collapsed": false
   },
   "outputs": [],
   "source": [
    "def mytrap(x,y):\n",
    "    a = x[0]\n",
    "    b = x[-1]\n",
    "    h = abs(x[-1]-x[0])/(len(x)-1)\n",
    "    w = ones(y.size)*2\n",
    "    w[0] = 1\n",
    "    w[y.size-1] = 1\n",
    "    return 0.5*h*dot(w,y)\n",
    "    #weights\n",
    "    #return"
   ]
  },
  {
   "cell_type": "code",
   "execution_count": 7,
   "metadata": {
    "collapsed": true
   },
   "outputs": [],
   "source": [
    "def mysimp(x,y):\n",
    "    a = x[0]\n",
    "    b = x[-1]\n",
    "    h = abs(x[-1]-x[0])/(len(x)-1)\n",
    "    w = ones(y.size)\n",
    "    \n",
    "    w[1::2] = 4\n",
    "    w[0::2] = 2\n",
    "    w[0] = 1\n",
    "    w[-1] = 1\n",
    "\n",
    "    return h/3*dot(w,y)\n",
    "    #weights\n",
    "    #return\n",
    "    "
   ]
  },
  {
   "cell_type": "code",
   "execution_count": null,
   "metadata": {
    "collapsed": true
   },
   "outputs": [],
   "source": []
  }
 ],
 "metadata": {
  "kernelspec": {
   "display_name": "Python 3",
   "language": "python",
   "name": "python3"
  },
  "language_info": {
   "codemirror_mode": {
    "name": "ipython",
    "version": 3
   },
   "file_extension": ".py",
   "mimetype": "text/x-python",
   "name": "python",
   "nbconvert_exporter": "python",
   "pygments_lexer": "ipython3",
   "version": "3.5.1"
  }
 },
 "nbformat": 4,
 "nbformat_minor": 0
}
