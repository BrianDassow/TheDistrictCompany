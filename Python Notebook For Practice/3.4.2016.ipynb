{
 "cells": [
  {
   "cell_type": "code",
   "execution_count": 91,
   "metadata": {
    "collapsed": true
   },
   "outputs": [],
   "source": [
    "from pylab import *\n",
    "from math import *\n",
    "%matplotlib inline"
   ]
  },
  {
   "cell_type": "code",
   "execution_count": 92,
   "metadata": {
    "collapsed": false
   },
   "outputs": [],
   "source": [
    "def f(x):\n",
    "    return (2/sqrt(pi))*e**(-(x**2))"
   ]
  },
  {
   "cell_type": "code",
   "execution_count": 95,
   "metadata": {
    "collapsed": false
   },
   "outputs": [
    {
     "data": {
      "text/plain": [
       "0.84451231821882433"
      ]
     },
     "execution_count": 95,
     "metadata": {},
     "output_type": "execute_result"
    }
   ],
   "source": [
    "a = -1\n",
    "b = 1\n",
    "n = 1000\n",
    "\n",
    "x = linspace(a,b,n)\n",
    "ytemp = f(x)\n",
    "ymin = ytemp.min()\n",
    "ymax = ytemp.max()\n",
    "\n",
    "sd = 5\n",
    "seed(sd)\n",
    "AreaRect = (b-a)*(ymax - ymin)\n",
    "p=0\n",
    "for i in range(n):\n",
    "    x = a + (b-a) * rand()\n",
    "    y = ymin + (ymax - ymin) * rand()\n",
    "    if (abs(y) <= abs(f(x))):\n",
    "        if ((f(x)) > 0 and y > 0 and y <= f(x)):\n",
    "            p += 1\n",
    "        if f(x) < 0 and y<0 and y >= f(x):\n",
    "            p-=1\n",
    "AUC = (AreaRect * (p/n))\n",
    "AUC"
   ]
  },
  {
   "cell_type": "code",
   "execution_count": null,
   "metadata": {
    "collapsed": true
   },
   "outputs": [],
   "source": []
  }
 ],
 "metadata": {
  "kernelspec": {
   "display_name": "Python 3",
   "language": "python",
   "name": "python3"
  },
  "language_info": {
   "codemirror_mode": {
    "name": "ipython",
    "version": 3
   },
   "file_extension": ".py",
   "mimetype": "text/x-python",
   "name": "python",
   "nbconvert_exporter": "python",
   "pygments_lexer": "ipython3",
   "version": "3.5.1"
  }
 },
 "nbformat": 4,
 "nbformat_minor": 0
}
