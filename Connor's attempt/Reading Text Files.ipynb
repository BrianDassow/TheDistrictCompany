{
 "cells": [
  {
   "cell_type": "code",
   "execution_count": 8,
   "metadata": {
    "collapsed": false
   },
   "outputs": [],
   "source": [
    "import os\n",
    "import string\n",
    "os.chdir(\"Files\")"
   ]
  },
  {
   "cell_type": "code",
   "execution_count": 9,
   "metadata": {
    "collapsed": false
   },
   "outputs": [],
   "source": [
    "count = [\n",
    "    ['friendly',0],\n",
    "    ['helpful',0],\n",
    "    ['go-to',0],\n",
    "    ['magic',0],\n",
    "    ['no one',0],\n",
    "    ['knowledge',0],\n",
    "    ['happy',0],\n",
    "    ['best',0],\n",
    "    ['outstanding',0],\n",
    "    ['first class customer service',0],\n",
    "    ['amazing',0],\n",
    "    ['atmosphere',0],\n",
    "    ['great',0],\n",
    "    ['awesome',0],\n",
    "    ['fun',0],\n",
    "    ['unique',0],\n",
    "    ['enjoy',0],\n",
    "    ['variety',0],\n",
    "    ['kind',0],\n",
    "    ['welcom',0],\n",
    "    ['love',0],\n",
    "    ['impress',0]\n",
    "]"
   ]
  },
  {
   "cell_type": "code",
   "execution_count": 10,
   "metadata": {
    "collapsed": false
   },
   "outputs": [],
   "source": [
    "count2 = [\n",
    "    ['friendly',5],\n",
    "    ['helpful',2],\n",
    "    ['go-to',1],\n",
    "    ['magic',4],\n",
    "    ['no one',1],\n",
    "    ['knowledge',2],\n",
    "    ['happy',3],\n",
    "    ['best',5],\n",
    "    ['outstanding',1],\n",
    "    ['first class customer service',1],\n",
    "    ['amazing',3],\n",
    "    ['atmosphere',3],\n",
    "    ['great',9],\n",
    "    ['awesome',4],\n",
    "    ['fun',7],\n",
    "    ['unique',1],\n",
    "    ['enjoy',2],\n",
    "    ['variety',2],\n",
    "    ['kind',1],\n",
    "    ['welcom',2],\n",
    "    ['love',4],\n",
    "    ['impress',1]\n",
    "]"
   ]
  },
  {
   "cell_type": "code",
   "execution_count": 14,
   "metadata": {
    "collapsed": false
   },
   "outputs": [
    {
     "name": "stdout",
     "output_type": "stream",
     "text": [
      "Friendly, helpful staff that knows their stuff.   They have a store in Eau Claire as well and they're willing to send product between the two to make sure they have what you want.  I'll go to whichever Main Street store is offering the Magic formats that I want to play, but District is definitely my go-to.\n",
      "\n",
      "I miss Levi runing the old card shop the new owners don't deal with footbll or baseball cards, so now there's no one to buy or trade cards with Levi gone.\n",
      "\n",
      "I've got to say, have been out of collecting cards since middle school and was looking to get back at it. After all, 14' was a great year to start, with the draft class n all. So I took the drive to see Levi &#064;Card sharks, and man is he full of knowledge in cards. Needless to say, he gave me a brush up and I was off to the races. I bought a 14' Panini Prizm jumbo box and started cracking packs. I pulled several nice autos, and inserts and was overall happy with the buy until... Last pack, wouldn't you know it, Johnny Football himself auto #'d to 75, gold refractor! Thanks again Levi.\n",
      "\n",
      "By far the best card shop in Menominee, and the surrounding area. Owner is an outstanding guy, and I am always happy to bring my business there.\n",
      "\n",
      "First Class Customer service. I've even considered getting back into Magic, they're just too damn friendly\n",
      "\n",
      "Amazing atmosphere, great people, great place! <i class=\"_4-k1 img sp_fM-mz8spZ1b sx_5371b4\"><u>smile emoticon</u></i>\n",
      "\n",
      "Best place in town for Magic cards. Boosters are slightly cheaper then at Wal-mart and that is awesome. Its pretty laid back there and to top it off they sell Surge there!\n",
      "\n",
      "Beautiful shop that goes out of it's way to make its' customers happy.  Great product, great prices and tons of fun events.  Hands down the best card shop I've ever been to.\n",
      "\n",
      "Great shop, professional and super clean. Staff is very knowledgeable and friendly.\n",
      "\n",
      "Love this place! My grade school age son loves going in there - Levi is great with the kids that come in!\n",
      "\n"
     ]
    },
    {
     "data": {
      "text/plain": [
       "[['friendly', 3],\n",
       " ['helpful', 1],\n",
       " ['go-to', 1],\n",
       " ['magic', 3],\n",
       " ['no one', 0],\n",
       " ['knowledge', 1],\n",
       " ['happy', 3],\n",
       " ['best', 3],\n",
       " ['outstanding', 1],\n",
       " ['first class customer service', 0],\n",
       " ['amazing', 1],\n",
       " ['atmosphere', 1],\n",
       " ['great', 7],\n",
       " ['awesome', 1],\n",
       " ['fun', 1],\n",
       " ['unique', 0],\n",
       " ['enjoy', 0],\n",
       " ['variety', 0],\n",
       " ['kind', 0],\n",
       " ['welcom', 0],\n",
       " ['love', 1],\n",
       " ['impress', 0]]"
      ]
     },
     "execution_count": 14,
     "metadata": {},
     "output_type": "execute_result"
    }
   ],
   "source": [
    "count = [\n",
    "    ['friendly',0],\n",
    "    ['helpful',0],\n",
    "    ['go-to',0],\n",
    "    ['magic',0],\n",
    "    ['no one',0],\n",
    "    ['knowledge',0],\n",
    "    ['happy',0],\n",
    "    ['best',0],\n",
    "    ['outstanding',0],\n",
    "    ['first class customer service',0],\n",
    "    ['amazing',0],\n",
    "    ['atmosphere',0],\n",
    "    ['great',0],\n",
    "    ['awesome',0],\n",
    "    ['fun',0],\n",
    "    ['unique',0],\n",
    "    ['enjoy',0],\n",
    "    ['variety',0],\n",
    "    ['kind',0],\n",
    "    ['welcom',0],\n",
    "    ['love',0],\n",
    "    ['impress',0]\n",
    "]\n",
    "import re\n",
    "f = open('MenomonieReviews.txt','r')\n",
    "data = f.read()\n",
    "r1 = re.sub(r'&#039;','\\'',data)\n",
    "y = re.findall(r'<p>(.*?)</p>',r1,re.DOTALL)\n",
    "for i in y:\n",
    "    print(i +\"\\n\")\n",
    "    for j in i.split():\n",
    "        for k in count:\n",
    "            if ''.join([c for c in j if c not in ('!', '?', ',', '.')]).lower() == k[0]:\n",
    "                k[1] = k[1] + 1\n",
    "count"
   ]
  },
  {
   "cell_type": "code",
   "execution_count": 15,
   "metadata": {
    "collapsed": false
   },
   "outputs": [
    {
     "name": "stdout",
     "output_type": "stream",
     "text": [
      "A fun place for gamers of any experience level and of any age. An absolutely unique atmosphere for gamers that brings out the true potential for gaming of all genres whether they are card, board or video games.\n",
      "\n",
      "We discovered this business on a recent trip to Eau Claire, and thoroughly enjoyed our brief visit. We're not gamers...we were thirsty and looking at the soda selection The owner made us feel very welcome, and treated my 10-year-old daughter like a queen. My hat's off to him...we wish this business great success! How about opening a Fargo branch?\n",
      "\n",
      "So glad I decided to listen to my teacher and wander into the shop. Not disappointed at all with the variety of games, sodas, and the layout is amazing. I plan on visiting often!\n",
      "\n",
      "This shop is staffed by some of the kindest, most helpful folks I've ever met. The atmosphere is welcoming and fun. Whether you're a hardcore gamer or just want to spend an afternoon playing board games someplace fun, be sure to check it out. It's a great place for everyone from kids to grown ups. I love it here!\n",
      "\n",
      "The district company is a awesome friendly and amazing place to go play on a computer or just sit down and battle with a variety of people there in almost any card game Magic, Pokemon, YuGiOh and way More. there prices are always up to date and they would match or bet those online prices on anything anytime. Love you district and I will be there today to have awesome fun.\n",
      "\n",
      "Probably my favorite place in Eau Claire to just get together and hang out with friends\n",
      "\n",
      "Fun place to hang out and do some card trading or just chill.\n",
      "\n",
      "Has awesome products just wished there was a store over by the rice lake area to avoid the long drive. Highly recommended.\n",
      "\n",
      "I was impressed, and I have seen lots of Game/Hobby shops.  I wish I had more time to hangout and enjoy the place.  I hope they get their Warhammer 40k League up and running and maybe a couple of tournaments as well.  I will definitely be going back.\n",
      "\n",
      "I think the District Company is the best game store in Wisconsin because it thought me how to play fun card games like Pokemon and Dragon ball z. That's why I think The District Company is the best card store in Wisconsin.\n",
      "\n"
     ]
    },
    {
     "data": {
      "text/plain": [
       "[['friendly', 4],\n",
       " ['helpful', 2],\n",
       " ['go-to', 1],\n",
       " ['magic', 4],\n",
       " ['no one', 0],\n",
       " ['knowledge', 1],\n",
       " ['happy', 3],\n",
       " ['best', 5],\n",
       " ['outstanding', 1],\n",
       " ['first class customer service', 0],\n",
       " ['amazing', 3],\n",
       " ['atmosphere', 3],\n",
       " ['great', 9],\n",
       " ['awesome', 4],\n",
       " ['fun', 7],\n",
       " ['unique', 1],\n",
       " ['enjoy', 1],\n",
       " ['variety', 2],\n",
       " ['kind', 0],\n",
       " ['welcom', 0],\n",
       " ['love', 3],\n",
       " ['impress', 0]]"
      ]
     },
     "execution_count": 15,
     "metadata": {},
     "output_type": "execute_result"
    }
   ],
   "source": [
    "import re\n",
    "f = open('EauClaireReviews.txt','r')\n",
    "data = f.read()\n",
    "r1 = re.sub(r'&#039;','\\'',data)\n",
    "x = re.findall(r'<p>(.*?)</p>',r1,re.DOTALL)\n",
    "for i in x:\n",
    "    print(i+\"\\n\")\n",
    "    for j in i.split():\n",
    "        for k in count:\n",
    "            if ''.join([c for c in j if c not in ('!', '?', ',', '.')]).lower() == k[0]:\n",
    "                k[1] = k[1] + 1\n",
    "count"
   ]
  },
  {
   "cell_type": "code",
   "execution_count": 13,
   "metadata": {
    "collapsed": false
   },
   "outputs": [
    {
     "data": {
      "text/plain": [
       "[['friendly', 5],\n",
       " ['helpful', 2],\n",
       " ['go-to', 1],\n",
       " ['magic', 4],\n",
       " ['no one', 1],\n",
       " ['knowledge', 2],\n",
       " ['happy', 3],\n",
       " ['best', 5],\n",
       " ['outstanding', 1],\n",
       " ['first class customer service', 1],\n",
       " ['amazing', 3],\n",
       " ['atmosphere', 3],\n",
       " ['great', 9],\n",
       " ['awesome', 4],\n",
       " ['fun', 7],\n",
       " ['unique', 1],\n",
       " ['enjoy', 2],\n",
       " ['variety', 2],\n",
       " ['kind', 1],\n",
       " ['welcom', 2],\n",
       " ['love', 4],\n",
       " ['impress', 1]]"
      ]
     },
     "execution_count": 13,
     "metadata": {},
     "output_type": "execute_result"
    }
   ],
   "source": [
    "count2"
   ]
  },
  {
   "cell_type": "code",
   "execution_count": null,
   "metadata": {
    "collapsed": true
   },
   "outputs": [],
   "source": []
  }
 ],
 "metadata": {
  "kernelspec": {
   "display_name": "Python 3",
   "language": "python",
   "name": "python3"
  },
  "language_info": {
   "codemirror_mode": {
    "name": "ipython",
    "version": 3
   },
   "file_extension": ".py",
   "mimetype": "text/x-python",
   "name": "python",
   "nbconvert_exporter": "python",
   "pygments_lexer": "ipython3",
   "version": "3.5.1"
  }
 },
 "nbformat": 4,
 "nbformat_minor": 0
}
