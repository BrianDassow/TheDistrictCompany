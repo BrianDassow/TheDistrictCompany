{
 "cells": [
  {
   "cell_type": "code",
   "execution_count": 22,
   "metadata": {
    "collapsed": true
   },
   "outputs": [],
   "source": [
    "import pandas as pd\n",
    "import matplotlib.pyplot as plt\n",
    "import numpy as np\n",
    "import seaborn as sns\n",
    "import re\n",
    "%matplotlib inline"
   ]
  },
  {
   "cell_type": "code",
   "execution_count": 23,
   "metadata": {
    "collapsed": false
   },
   "outputs": [],
   "source": [
    "class item(object):\n",
    "    def __init__(self,name,variation,sku,category,isold,gsale,irefund,refund,discount,nsale,tax):\n",
    "        self.name = name\n",
    "        self.variation = variation\n",
    "        self.sku = sku\n",
    "        self.category = category\n",
    "        self.isold = isold\n",
    "        self.gsale = gsale\n",
    "        self.irefund = irefund\n",
    "        self.refund = refund\n",
    "        self.discount = discount\n",
    "        self.nsale = nsale\n",
    "        self.tax = tax"
   ]
  },
  {
   "cell_type": "code",
   "execution_count": 24,
   "metadata": {
    "collapsed": false
   },
   "outputs": [
    {
     "name": "stdout",
     "output_type": "stream",
     "text": [
      "Tax\n",
      "Custom Amount\n"
     ]
    }
   ],
   "source": [
    "import re\n",
    "f = open('item_sales_summary_2015-06-01_2016-01-31.csv','r')\n",
    "d1 = f.read()\n",
    "d2 = re.findall(r'(.*)\\n',d1,re.DOTALL)\n",
    "l1 = list()\n",
    "\n",
    "for i in d2:\n",
    "    j = i.split(',')\n",
    "    l1.append(item(j[0],j[1],j[2],j[3],j[4],j[5],j[6],j[7],j[8],j[9],j[10]))\n",
    "    \n",
    "print(l1[0].tax)"
   ]
  },
  {
   "cell_type": "code",
   "execution_count": 25,
   "metadata": {
    "collapsed": false
   },
   "outputs": [],
   "source": [
    "import re\n",
    "\n",
    "readfile = open('item_sales_summary_2015-06-01_2016-01-31.csv', \"r\")\n",
    "l1 = list()\n",
    "for line in readfile:\n",
    "    j = line.split(\",\")\n",
    "    l1.append(item(j[0],j[1],j[2],j[3],j[4],j[5],j[6],j[7],j[8],j[9],j[10]))"
   ]
  },
  {
   "cell_type": "code",
   "execution_count": 26,
   "metadata": {
    "collapsed": false
   },
   "outputs": [
    {
     "name": "stdout",
     "output_type": "stream",
     "text": [
      "1138.0\n"
     ]
    }
   ],
   "source": [
    "isoldSum = 0.0\n",
    "gsaleSum = 0.0\n",
    "irefundSum = 0.0\n",
    "refundSum = 0.0\n",
    "discountSum = 0.0\n",
    "nsaleSum = 0.0\n",
    "taxSum = 0.0\n",
    "\n",
    "for item in l1:\n",
    "    if item.category.lower() == 'uncategorized':\n",
    "        isoldSum += float(item.isold)\n",
    "        gsaleSum += float(item.gsale)\n",
    "        irefundSum += float(item.irefund)\n",
    "        discountSum += float(item.discount)\n",
    "        nsaleSum += float(item.nsale)\n",
    "        taxSum += float(item.tax)\n",
    "print(isoldSum)"
   ]
  },
  {
   "cell_type": "code",
   "execution_count": 27,
   "metadata": {
    "collapsed": false
   },
   "outputs": [
    {
     "name": "stdout",
     "output_type": "stream",
     "text": [
      "[1138.0, 5.944129999999997, -18.0, -0.3163300000000001, 5.433469999999998, 0.18382000000000004]\n"
     ]
    },
    {
     "ename": "AttributeError",
     "evalue": "'float' object has no attribute 'to_excel'",
     "output_type": "error",
     "traceback": [
      "\u001b[1;31m---------------------------------------------------------------------------\u001b[0m",
      "\u001b[1;31mAttributeError\u001b[0m                            Traceback (most recent call last)",
      "\u001b[1;32m<ipython-input-27-c605d307d6ba>\u001b[0m in \u001b[0;36m<module>\u001b[1;34m()\u001b[0m\n\u001b[0;32m     21\u001b[0m \u001b[1;32mfor\u001b[0m \u001b[0mi\u001b[0m \u001b[1;32min\u001b[0m \u001b[0ml2\u001b[0m\u001b[1;33m:\u001b[0m\u001b[1;33m\u001b[0m\u001b[0m\n\u001b[0;32m     22\u001b[0m \u001b[1;33m\u001b[0m\u001b[0m\n\u001b[1;32m---> 23\u001b[1;33m     \u001b[0mi\u001b[0m\u001b[1;33m.\u001b[0m\u001b[0mto_excel\u001b[0m\u001b[1;33m(\u001b[0m\u001b[0mwriter\u001b[0m\u001b[1;33m,\u001b[0m \u001b[1;34m'sheet 1'\u001b[0m\u001b[1;33m)\u001b[0m\u001b[1;33m\u001b[0m\u001b[0m\n\u001b[0m",
      "\u001b[1;31mAttributeError\u001b[0m: 'float' object has no attribute 'to_excel'"
     ]
    }
   ],
   "source": [
    "isoldSum = 0.0\n",
    "gsaleSum = 0.0\n",
    "irefundSum = 0.0\n",
    "refundSum = 0.0\n",
    "discountSum = 0.0\n",
    "nsaleSum = 0.0\n",
    "taxSum = 0.0\n",
    "\n",
    "for item in l1:\n",
    "    if item.category.lower() == 'uncategorized':\n",
    "        isoldSum += float(item.isold)\n",
    "        gsaleSum += float(item.gsale)\n",
    "        irefundSum += float(item.irefund)\n",
    "        discountSum += float(item.discount)\n",
    "        nsaleSum += float(item.nsale)\n",
    "        taxSum += float(item.tax)\n",
    "\n",
    "l2 = [isoldSum, gsaleSum, irefundSum, discountSum, nsaleSum, taxSum]\n",
    "print(l2)\n",
    "writer = pd.ExcelWriter(\"Sums.xlsx\")\n",
    "for i in l2:\n",
    "    \n",
    "    i.to_excel(writer, 'sheet 1')"
   ]
  },
  {
   "cell_type": "code",
   "execution_count": 28,
   "metadata": {
    "collapsed": false
   },
   "outputs": [],
   "source": [
    "import xlrd\n",
    "from xlrd import open_workbook\n",
    "book = open_workbook('write.xlsx')\n",
    "sheet1 = book.sheet_by_index(0)\n",
    "data = [1,2,3]\n",
    "\n",
    "for i in range(sheet1.nrows):\n",
    "    data.append(sheet1.cell(i,1).value)"
   ]
  },
  {
   "cell_type": "code",
   "execution_count": 38,
   "metadata": {
    "collapsed": false
   },
   "outputs": [
    {
     "ename": "NameError",
     "evalue": "name 'Uncategorized' is not defined",
     "output_type": "error",
     "traceback": [
      "\u001b[1;31m---------------------------------------------------------------------------\u001b[0m",
      "\u001b[1;31mNameError\u001b[0m                                 Traceback (most recent call last)",
      "\u001b[1;32m<ipython-input-38-1b931e3266f7>\u001b[0m in \u001b[0;36m<module>\u001b[1;34m()\u001b[0m\n\u001b[1;32m----> 1\u001b[1;33m \u001b[0mdf\u001b[0m \u001b[1;33m=\u001b[0m \u001b[0mpd\u001b[0m\u001b[1;33m.\u001b[0m\u001b[0mDataFrame\u001b[0m\u001b[1;33m(\u001b[0m\u001b[0ml2\u001b[0m\u001b[1;33m,\u001b[0m \u001b[0mcolumns\u001b[0m\u001b[1;33m=\u001b[0m\u001b[0mUncategorized\u001b[0m\u001b[1;33m)\u001b[0m\u001b[1;33m\u001b[0m\u001b[0m\n\u001b[0m\u001b[0;32m      2\u001b[0m \u001b[0mdf\u001b[0m\u001b[1;33m\u001b[0m\u001b[0m\n",
      "\u001b[1;31mNameError\u001b[0m: name 'Uncategorized' is not defined"
     ]
    }
   ],
   "source": [
    "cols = []\n",
    "df = pd.DataFrame(l2, columns=cols)\n",
    "df"
   ]
  },
  {
   "cell_type": "code",
   "execution_count": 39,
   "metadata": {
    "collapsed": false
   },
   "outputs": [
    {
     "name": "stdout",
     "output_type": "stream",
     "text": [
      "['Category', 'Uncategorized', '3D printing', 'Beverages', 'Birthdays', 'Board Games', '8.37654E+11', ' Blacker Box\"', 'Bottled Beverages', '49000024685', '12000107351', '12000504082', '12000504068', '', '1282609', '12000811197', 'Candy', 'Canned Beverages', '1216606', '1208500', '1201303', 'Card Game', 'Card Gaming Accessories', 'Clothing', 'D&D', 'Dice and accessories', 'Dragon Ball Z', 'Event Tickets', 'Figures And Models', '8.75582E+11', 'Food', 'Force of Will', 'Glass Bottled Soda', '12000005923', '1244502', '12000109416', '\"MTG Sealed (booster packs', 'Magic The Gathering', 'Miniatures ', 'Miscellaneous', 'Netrunner', 'Network', 'Novelties', 'Pokemon', 'Prize Support', 'Star Wars', 'Venue Fee', 'Video Gaming', 'WarMachine', 'Warhammer 40K', 'Yu-Gi-Oh']\n"
     ]
    }
   ],
   "source": [
    "categories = list()\n",
    "def getAllCate():\n",
    "    for i in l1:\n",
    "        if(i.category not in categories):\n",
    "            categories.append(i.category)\n",
    "    print(categories)\n",
    "getAllCate()"
   ]
  },
  {
   "cell_type": "code",
   "execution_count": null,
   "metadata": {
    "collapsed": true
   },
   "outputs": [],
   "source": []
  }
 ],
 "metadata": {
  "kernelspec": {
   "display_name": "Python 3",
   "language": "python",
   "name": "python3"
  },
  "language_info": {
   "codemirror_mode": {
    "name": "ipython",
    "version": 3
   },
   "file_extension": ".py",
   "mimetype": "text/x-python",
   "name": "python",
   "nbconvert_exporter": "python",
   "pygments_lexer": "ipython3",
   "version": "3.5.1"
  }
 },
 "nbformat": 4,
 "nbformat_minor": 0
}
